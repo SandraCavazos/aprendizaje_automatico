{
 "cells": [
  {
   "cell_type": "markdown",
   "metadata": {},
   "source": [
    "# **Tarea 4**\n",
    "\n",
    "## **Parte 1: Filtro mediante SelectKBest**"
   ]
  },
  {
   "cell_type": "code",
   "execution_count": 108,
   "metadata": {},
   "outputs": [],
   "source": [
    "from sklearn.feature_selection import SelectKBest\n",
    "from sklearn.feature_selection import f_classif\n",
    "from sklearn.feature_selection import r_regression\n",
    "import pandas as pd\n",
    "import numpy as np\n",
    "import matplotlib.pyplot as plt\n",
    "\n"
   ]
  },
  {
   "cell_type": "code",
   "execution_count": 109,
   "metadata": {},
   "outputs": [],
   "source": [
    "# Carga de datos\n",
    "trans=pd.read_csv('C:/Users/sandy/Downloads/trans_vf_2.csv')\n",
    "# cambiamos el tipo de dato a datetime\n",
    "trans['Timestamp'] = pd.to_datetime(trans['Timestamp'])\n"
   ]
  },
  {
   "cell_type": "code",
   "execution_count": 110,
   "metadata": {},
   "outputs": [],
   "source": [
    "#trans.timestamp = trans.timestamp.values.astype(np.int64) / 10 ** 9\n",
    "trans['Timestamp']=trans['Timestamp'].astype('int64')/10**9\n"
   ]
  },
  {
   "cell_type": "code",
   "execution_count": 111,
   "metadata": {},
   "outputs": [
    {
     "name": "stdout",
     "output_type": "stream",
     "text": [
      "<class 'pandas.core.frame.DataFrame'>\n",
      "RangeIndex: 1147470 entries, 0 to 1147469\n",
      "Data columns (total 12 columns):\n",
      " #   Column           Non-Null Count    Dtype  \n",
      "---  ------           --------------    -----  \n",
      " 0   Timestamp        1147470 non-null  float64\n",
      " 1   From Bank        1147470 non-null  int64  \n",
      " 2   From_Acc         1147470 non-null  int64  \n",
      " 3   To Bank          1147470 non-null  int64  \n",
      " 4   To_Acc           1147470 non-null  int64  \n",
      " 5   Amount Received  1147470 non-null  float64\n",
      " 6   R_CCY            1147470 non-null  int64  \n",
      " 7   Amount Paid      1147470 non-null  float64\n",
      " 8   P_CCY            1147470 non-null  int64  \n",
      " 9   Payment_Format   1147470 non-null  int64  \n",
      " 10  Is Laundering    1147470 non-null  int64  \n",
      " 11  Monto_USD        1147470 non-null  float64\n",
      "dtypes: float64(4), int64(8)\n",
      "memory usage: 105.1 MB\n"
     ]
    }
   ],
   "source": [
    "trans.info()"
   ]
  },
  {
   "cell_type": "code",
   "execution_count": 112,
   "metadata": {},
   "outputs": [
    {
     "name": "stdout",
     "output_type": "stream",
     "text": [
      "Variables seleccionadas: [ 0  1  3  9 10]\n"
     ]
    }
   ],
   "source": [
    "# X es ula matriz de variables predictoras y y la variable respuesta\n",
    "x=trans.drop(trans.columns[10], axis=1)\n",
    "y=trans['Is Laundering']\n",
    "\n",
    "# se crea objeto SelectKBest con una función de puntuación (f_classif)\n",
    "k_best = SelectKBest(score_func=f_classif, k=5)  # el valor de 'k' se ajusta\n",
    "\n",
    "# fit y transform\n",
    "X_new = k_best.fit(x, y)\n",
    "\n",
    "#características seleccionadas\n",
    "selected_features = k_best.get_support(indices=True)\n",
    "\n",
    "print(\"Variables seleccionadas:\", selected_features)\n"
   ]
  },
  {
   "cell_type": "markdown",
   "metadata": {},
   "source": [
    "## **Parte 2: Modelos de selección de variables**"
   ]
  },
  {
   "cell_type": "markdown",
   "metadata": {},
   "source": [
    "### Métodos de Filtro"
   ]
  },
  {
   "cell_type": "markdown",
   "metadata": {},
   "source": [
    "#### ANOVA de valor F"
   ]
  },
  {
   "cell_type": "markdown",
   "metadata": {},
   "source": [
    "Dado que el modelo busca clasificar, se utiliza la función f_classif de sklearn.feature_selection."
   ]
  },
  {
   "cell_type": "code",
   "execution_count": 113,
   "metadata": {},
   "outputs": [
    {
     "data": {
      "text/plain": [
       "(array([4.63130757e+02, 7.61264666e+00, 2.81707916e-01, 6.24763252e+01,\n",
       "        7.67308719e-01, 9.37703674e-03, 4.70231356e-02, 7.12585264e-03,\n",
       "        4.90505541e-02, 4.30189701e+03, 5.39444096e+00]),\n",
       " array([1.04946170e-102, 5.79612689e-003, 5.95584070e-001, 2.69903672e-015,\n",
       "        3.81051095e-001, 9.22857366e-001, 8.28326697e-001, 9.32726683e-001,\n",
       "        8.24723732e-001, 0.00000000e+000, 2.02011696e-002]))"
      ]
     },
     "execution_count": 113,
     "metadata": {},
     "output_type": "execute_result"
    }
   ],
   "source": [
    "f_value = f_classif(x, y)\n",
    "# Regresa arreglo de estadístico F y valor p\n",
    "f_value"
   ]
  },
  {
   "cell_type": "code",
   "execution_count": 114,
   "metadata": {},
   "outputs": [
    {
     "name": "stdout",
     "output_type": "stream",
     "text": [
      "Timestamp 1.0494617003102254e-102\n",
      "From Bank 0.005796126887115196\n",
      "From_Acc 0.5955840697115589\n",
      "To Bank 2.699036717247973e-15\n",
      "To_Acc 0.38105109483797617\n",
      "Amount Received 0.9228573656678265\n",
      "R_CCY 0.8283266970227974\n",
      "Amount Paid 0.9327266829606258\n",
      "P_CCY 0.8247237320515614\n",
      "Payment_Format 0.0\n",
      "Monto_USD 0.02020116964954267\n",
      "\n",
      "Pasaron:  ['Timestamp', 'From Bank', 'To Bank', 'Payment_Format', 'Monto_USD']\n",
      "No pasaron:  ['From_Acc', 'To_Acc', 'Amount Received', 'R_CCY', 'Amount Paid', 'P_CCY']\n"
     ]
    }
   ],
   "source": [
    "pass_test = []\n",
    "not_pass_test = []\n",
    "a = 0.05\n",
    "for i in range(len(f_value[1])):\n",
    "    print(x.columns[i], f_value[1][i])\n",
    "    if f_value[1][i] < a:\n",
    "        pass_test.append(x.columns[i])\n",
    "    else:\n",
    "        not_pass_test.append(x.columns[i])\n",
    "\n",
    "print(\"\\nPasaron: \",pass_test)\n",
    "print(\"No pasaron: \", not_pass_test)"
   ]
  },
  {
   "cell_type": "code",
   "execution_count": 115,
   "metadata": {},
   "outputs": [
    {
     "data": {
      "text/html": [
       "<div>\n",
       "<style scoped>\n",
       "    .dataframe tbody tr th:only-of-type {\n",
       "        vertical-align: middle;\n",
       "    }\n",
       "\n",
       "    .dataframe tbody tr th {\n",
       "        vertical-align: top;\n",
       "    }\n",
       "\n",
       "    .dataframe thead th {\n",
       "        text-align: right;\n",
       "    }\n",
       "</style>\n",
       "<table border=\"1\" class=\"dataframe\">\n",
       "  <thead>\n",
       "    <tr style=\"text-align: right;\">\n",
       "      <th></th>\n",
       "      <th>f_value</th>\n",
       "    </tr>\n",
       "  </thead>\n",
       "  <tbody>\n",
       "    <tr>\n",
       "      <th>Timestamp</th>\n",
       "      <td>463.130757</td>\n",
       "    </tr>\n",
       "    <tr>\n",
       "      <th>From Bank</th>\n",
       "      <td>7.612647</td>\n",
       "    </tr>\n",
       "    <tr>\n",
       "      <th>From_Acc</th>\n",
       "      <td>0.281708</td>\n",
       "    </tr>\n",
       "    <tr>\n",
       "      <th>To Bank</th>\n",
       "      <td>62.476325</td>\n",
       "    </tr>\n",
       "    <tr>\n",
       "      <th>To_Acc</th>\n",
       "      <td>0.767309</td>\n",
       "    </tr>\n",
       "    <tr>\n",
       "      <th>Amount Received</th>\n",
       "      <td>0.009377</td>\n",
       "    </tr>\n",
       "    <tr>\n",
       "      <th>R_CCY</th>\n",
       "      <td>0.047023</td>\n",
       "    </tr>\n",
       "    <tr>\n",
       "      <th>Amount Paid</th>\n",
       "      <td>0.007126</td>\n",
       "    </tr>\n",
       "    <tr>\n",
       "      <th>P_CCY</th>\n",
       "      <td>0.049051</td>\n",
       "    </tr>\n",
       "    <tr>\n",
       "      <th>Payment_Format</th>\n",
       "      <td>4301.897007</td>\n",
       "    </tr>\n",
       "    <tr>\n",
       "      <th>Monto_USD</th>\n",
       "      <td>5.394441</td>\n",
       "    </tr>\n",
       "  </tbody>\n",
       "</table>\n",
       "</div>"
      ],
      "text/plain": [
       "                     f_value\n",
       "Timestamp         463.130757\n",
       "From Bank           7.612647\n",
       "From_Acc            0.281708\n",
       "To Bank            62.476325\n",
       "To_Acc              0.767309\n",
       "Amount Received     0.009377\n",
       "R_CCY               0.047023\n",
       "Amount Paid         0.007126\n",
       "P_CCY               0.049051\n",
       "Payment_Format   4301.897007\n",
       "Monto_USD           5.394441"
      ]
     },
     "execution_count": 115,
     "metadata": {},
     "output_type": "execute_result"
    }
   ],
   "source": [
    "results= pd.DataFrame(f_value[0], index=x.columns)\n",
    "results.columns = ['f_value']\n",
    "\n",
    "results"
   ]
  },
  {
   "cell_type": "code",
   "execution_count": 116,
   "metadata": {},
   "outputs": [
    {
     "data": {
      "image/png": "[encoded data removed]",
      "text/plain": [
       "<Figure size 640x480 with 1 Axes>"
      ]
     },
     "metadata": {},
     "output_type": "display_data"
    }
   ],
   "source": [
    "\n",
    "plt.figure()\n",
    "plt.bar(results.drop(not_pass_test).index, results.drop(not_pass_test).f_value)\n",
    "plt.tight_layout()\n",
    "plt.show()"
   ]
  },
  {
   "cell_type": "markdown",
   "metadata": {},
   "source": [
    "La forma de pago es la variable más relacionada con la variable respuesta 'Is Laundering', seguida de fecha y hora."
   ]
  },
  {
   "cell_type": "markdown",
   "metadata": {},
   "source": [
    "#### Valor R de Correlación"
   ]
  },
  {
   "cell_type": "code",
   "execution_count": 117,
   "metadata": {},
   "outputs": [
    {
     "data": {
      "text/plain": [
       "array([ 2.00859990e-02,  2.57570490e-03,  4.95483481e-04, -7.37862814e-03,\n",
       "       -8.17738847e-04, -9.03987688e-05,  2.02434951e-04, -7.88039752e-05,\n",
       "        2.06752922e-04, -6.11149052e-02,  2.16821283e-03])"
      ]
     },
     "execution_count": 117,
     "metadata": {},
     "output_type": "execute_result"
    }
   ],
   "source": [
    "r_value = r_regression(x, y)\n",
    "r_value"
   ]
  },
  {
   "cell_type": "code",
   "execution_count": 118,
   "metadata": {},
   "outputs": [
    {
     "data": {
      "text/html": [
       "<div>\n",
       "<style scoped>\n",
       "    .dataframe tbody tr th:only-of-type {\n",
       "        vertical-align: middle;\n",
       "    }\n",
       "\n",
       "    .dataframe tbody tr th {\n",
       "        vertical-align: top;\n",
       "    }\n",
       "\n",
       "    .dataframe thead th {\n",
       "        text-align: right;\n",
       "    }\n",
       "</style>\n",
       "<table border=\"1\" class=\"dataframe\">\n",
       "  <thead>\n",
       "    <tr style=\"text-align: right;\">\n",
       "      <th></th>\n",
       "      <th>f_value</th>\n",
       "      <th>r_value</th>\n",
       "      <th>r_value_abs</th>\n",
       "    </tr>\n",
       "  </thead>\n",
       "  <tbody>\n",
       "    <tr>\n",
       "      <th>Timestamp</th>\n",
       "      <td>463.130757</td>\n",
       "      <td>0.020086</td>\n",
       "      <td>0.020086</td>\n",
       "    </tr>\n",
       "    <tr>\n",
       "      <th>From Bank</th>\n",
       "      <td>7.612647</td>\n",
       "      <td>0.002576</td>\n",
       "      <td>0.002576</td>\n",
       "    </tr>\n",
       "    <tr>\n",
       "      <th>From_Acc</th>\n",
       "      <td>0.281708</td>\n",
       "      <td>0.000495</td>\n",
       "      <td>0.000495</td>\n",
       "    </tr>\n",
       "    <tr>\n",
       "      <th>To Bank</th>\n",
       "      <td>62.476325</td>\n",
       "      <td>-0.007379</td>\n",
       "      <td>0.007379</td>\n",
       "    </tr>\n",
       "    <tr>\n",
       "      <th>To_Acc</th>\n",
       "      <td>0.767309</td>\n",
       "      <td>-0.000818</td>\n",
       "      <td>0.000818</td>\n",
       "    </tr>\n",
       "    <tr>\n",
       "      <th>Amount Received</th>\n",
       "      <td>0.009377</td>\n",
       "      <td>-0.000090</td>\n",
       "      <td>0.000090</td>\n",
       "    </tr>\n",
       "    <tr>\n",
       "      <th>R_CCY</th>\n",
       "      <td>0.047023</td>\n",
       "      <td>0.000202</td>\n",
       "      <td>0.000202</td>\n",
       "    </tr>\n",
       "    <tr>\n",
       "      <th>Amount Paid</th>\n",
       "      <td>0.007126</td>\n",
       "      <td>-0.000079</td>\n",
       "      <td>0.000079</td>\n",
       "    </tr>\n",
       "    <tr>\n",
       "      <th>P_CCY</th>\n",
       "      <td>0.049051</td>\n",
       "      <td>0.000207</td>\n",
       "      <td>0.000207</td>\n",
       "    </tr>\n",
       "    <tr>\n",
       "      <th>Payment_Format</th>\n",
       "      <td>4301.897007</td>\n",
       "      <td>-0.061115</td>\n",
       "      <td>0.061115</td>\n",
       "    </tr>\n",
       "    <tr>\n",
       "      <th>Monto_USD</th>\n",
       "      <td>5.394441</td>\n",
       "      <td>0.002168</td>\n",
       "      <td>0.002168</td>\n",
       "    </tr>\n",
       "  </tbody>\n",
       "</table>\n",
       "</div>"
      ],
      "text/plain": [
       "                     f_value   r_value  r_value_abs\n",
       "Timestamp         463.130757  0.020086     0.020086\n",
       "From Bank           7.612647  0.002576     0.002576\n",
       "From_Acc            0.281708  0.000495     0.000495\n",
       "To Bank            62.476325 -0.007379     0.007379\n",
       "To_Acc              0.767309 -0.000818     0.000818\n",
       "Amount Received     0.009377 -0.000090     0.000090\n",
       "R_CCY               0.047023  0.000202     0.000202\n",
       "Amount Paid         0.007126 -0.000079     0.000079\n",
       "P_CCY               0.049051  0.000207     0.000207\n",
       "Payment_Format   4301.897007 -0.061115     0.061115\n",
       "Monto_USD           5.394441  0.002168     0.002168"
      ]
     },
     "execution_count": 118,
     "metadata": {},
     "output_type": "execute_result"
    }
   ],
   "source": [
    "results['r_value'] = r_value\n",
    "colors = []\n",
    "for v in results['r_value']:\n",
    "    if v > 0:\n",
    "        colors.append('g')\n",
    "    else:\n",
    "        colors.append('r')\n",
    "\n",
    "results['r_value_abs'] = results['r_value'].abs()\n",
    "results\n"
   ]
  },
  {
   "cell_type": "code",
   "execution_count": 119,
   "metadata": {},
   "outputs": [
    {
     "data": {
      "image/png": "[encoded data removed]",
      "text/plain": [
       "<Figure size 640x480 with 1 Axes>"
      ]
     },
     "metadata": {},
     "output_type": "display_data"
    }
   ],
   "source": [
    "plt.figure()\n",
    "plt.bar(results.index, results.r_value_abs, color = colors)\n",
    "plt.xticks(rotation = 90, ha = 'right')\n",
    "plt.tight_layout()\n",
    "plt.show()"
   ]
  },
  {
   "cell_type": "markdown",
   "metadata": {},
   "source": [
    "Las correlaciones son bajas, aquella variable con la más alta es la del monto pagado, la cual no ha salido en los modelos anteriores."
   ]
  },
  {
   "cell_type": "markdown",
   "metadata": {},
   "source": [
    "#### Umbral de varianzas."
   ]
  },
  {
   "cell_type": "markdown",
   "metadata": {},
   "source": [
    "Primero se normalizan las variables para que se cumplan los supuestos del modelo."
   ]
  },
  {
   "cell_type": "code",
   "execution_count": 120,
   "metadata": {},
   "outputs": [
    {
     "data": {
      "text/html": [
       "<div>\n",
       "<style scoped>\n",
       "    .dataframe tbody tr th:only-of-type {\n",
       "        vertical-align: middle;\n",
       "    }\n",
       "\n",
       "    .dataframe tbody tr th {\n",
       "        vertical-align: top;\n",
       "    }\n",
       "\n",
       "    .dataframe thead th {\n",
       "        text-align: right;\n",
       "    }\n",
       "</style>\n",
       "<table border=\"1\" class=\"dataframe\">\n",
       "  <thead>\n",
       "    <tr style=\"text-align: right;\">\n",
       "      <th></th>\n",
       "      <th>Timestamp</th>\n",
       "      <th>From Bank</th>\n",
       "      <th>From_Acc</th>\n",
       "      <th>To Bank</th>\n",
       "      <th>To_Acc</th>\n",
       "      <th>Amount Received</th>\n",
       "      <th>R_CCY</th>\n",
       "      <th>Amount Paid</th>\n",
       "      <th>P_CCY</th>\n",
       "      <th>Payment_Format</th>\n",
       "      <th>Monto_USD</th>\n",
       "    </tr>\n",
       "  </thead>\n",
       "  <tbody>\n",
       "    <tr>\n",
       "      <th>0</th>\n",
       "      <td>0.000851</td>\n",
       "      <td>0.000025</td>\n",
       "      <td>0.857061</td>\n",
       "      <td>0.000025</td>\n",
       "      <td>0.857083</td>\n",
       "      <td>3.827738e-09</td>\n",
       "      <td>0.571429</td>\n",
       "      <td>3.827738e-09</td>\n",
       "      <td>0.571429</td>\n",
       "      <td>0.833333</td>\n",
       "      <td>3.171283e-07</td>\n",
       "    </tr>\n",
       "    <tr>\n",
       "      <th>1</th>\n",
       "      <td>0.000085</td>\n",
       "      <td>0.000031</td>\n",
       "      <td>0.471456</td>\n",
       "      <td>0.000031</td>\n",
       "      <td>0.471457</td>\n",
       "      <td>2.905967e-09</td>\n",
       "      <td>0.571429</td>\n",
       "      <td>2.905967e-09</td>\n",
       "      <td>0.571429</td>\n",
       "      <td>0.833333</td>\n",
       "      <td>2.407595e-07</td>\n",
       "    </tr>\n",
       "    <tr>\n",
       "      <th>2</th>\n",
       "      <td>0.000255</td>\n",
       "      <td>0.000025</td>\n",
       "      <td>0.982102</td>\n",
       "      <td>0.000025</td>\n",
       "      <td>0.982130</td>\n",
       "      <td>3.797671e-08</td>\n",
       "      <td>0.571429</td>\n",
       "      <td>3.797671e-08</td>\n",
       "      <td>0.571429</td>\n",
       "      <td>0.833333</td>\n",
       "      <td>3.146372e-06</td>\n",
       "    </tr>\n",
       "    <tr>\n",
       "      <th>3</th>\n",
       "      <td>0.001106</td>\n",
       "      <td>0.000031</td>\n",
       "      <td>0.610075</td>\n",
       "      <td>0.006899</td>\n",
       "      <td>0.038115</td>\n",
       "      <td>7.930153e-12</td>\n",
       "      <td>0.571429</td>\n",
       "      <td>7.930153e-12</td>\n",
       "      <td>0.571429</td>\n",
       "      <td>0.666667</td>\n",
       "      <td>6.570078e-10</td>\n",
       "    </tr>\n",
       "    <tr>\n",
       "      <th>4</th>\n",
       "      <td>0.000723</td>\n",
       "      <td>0.000025</td>\n",
       "      <td>0.179660</td>\n",
       "      <td>0.102026</td>\n",
       "      <td>0.259979</td>\n",
       "      <td>1.104631e-10</td>\n",
       "      <td>0.571429</td>\n",
       "      <td>1.104631e-10</td>\n",
       "      <td>0.571429</td>\n",
       "      <td>0.666667</td>\n",
       "      <td>9.151868e-09</td>\n",
       "    </tr>\n",
       "  </tbody>\n",
       "</table>\n",
       "</div>"
      ],
      "text/plain": [
       "   Timestamp  From Bank  From_Acc   To Bank    To_Acc  Amount Received  \\\n",
       "0   0.000851   0.000025  0.857061  0.000025  0.857083     3.827738e-09   \n",
       "1   0.000085   0.000031  0.471456  0.000031  0.471457     2.905967e-09   \n",
       "2   0.000255   0.000025  0.982102  0.000025  0.982130     3.797671e-08   \n",
       "3   0.001106   0.000031  0.610075  0.006899  0.038115     7.930153e-12   \n",
       "4   0.000723   0.000025  0.179660  0.102026  0.259979     1.104631e-10   \n",
       "\n",
       "      R_CCY   Amount Paid     P_CCY  Payment_Format     Monto_USD  \n",
       "0  0.571429  3.827738e-09  0.571429        0.833333  3.171283e-07  \n",
       "1  0.571429  2.905967e-09  0.571429        0.833333  2.407595e-07  \n",
       "2  0.571429  3.797671e-08  0.571429        0.833333  3.146372e-06  \n",
       "3  0.571429  7.930153e-12  0.571429        0.666667  6.570078e-10  \n",
       "4  0.571429  1.104631e-10  0.571429        0.666667  9.151868e-09  "
      ]
     },
     "execution_count": 120,
     "metadata": {},
     "output_type": "execute_result"
    }
   ],
   "source": [
    "from sklearn.preprocessing import MinMaxScaler\n",
    "scaler = MinMaxScaler()\n",
    "scaled = scaler.fit_transform(x)\n",
    "x_scaled = pd.DataFrame(scaled, columns = x.columns)\n",
    "x_scaled.head()"
   ]
  },
  {
   "cell_type": "code",
   "execution_count": 121,
   "metadata": {},
   "outputs": [],
   "source": [
    "from sklearn.feature_selection import VarianceThreshold"
   ]
  },
  {
   "cell_type": "code",
   "execution_count": 122,
   "metadata": {},
   "outputs": [
    {
     "data": {
      "text/html": [
       "<div>\n",
       "<style scoped>\n",
       "    .dataframe tbody tr th:only-of-type {\n",
       "        vertical-align: middle;\n",
       "    }\n",
       "\n",
       "    .dataframe tbody tr th {\n",
       "        vertical-align: top;\n",
       "    }\n",
       "\n",
       "    .dataframe thead th {\n",
       "        text-align: right;\n",
       "    }\n",
       "</style>\n",
       "<table border=\"1\" class=\"dataframe\">\n",
       "  <thead>\n",
       "    <tr style=\"text-align: right;\">\n",
       "      <th></th>\n",
       "      <th>f_value</th>\n",
       "      <th>r_value</th>\n",
       "      <th>r_value_abs</th>\n",
       "      <th>variance</th>\n",
       "    </tr>\n",
       "  </thead>\n",
       "  <tbody>\n",
       "    <tr>\n",
       "      <th>Timestamp</th>\n",
       "      <td>463.130757</td>\n",
       "      <td>0.020086</td>\n",
       "      <td>0.020086</td>\n",
       "      <td>3.459400e-02</td>\n",
       "    </tr>\n",
       "    <tr>\n",
       "      <th>From Bank</th>\n",
       "      <td>7.612647</td>\n",
       "      <td>0.002576</td>\n",
       "      <td>0.002576</td>\n",
       "      <td>2.283661e-02</td>\n",
       "    </tr>\n",
       "    <tr>\n",
       "      <th>From_Acc</th>\n",
       "      <td>0.281708</td>\n",
       "      <td>0.000495</td>\n",
       "      <td>0.000495</td>\n",
       "      <td>8.014676e-02</td>\n",
       "    </tr>\n",
       "    <tr>\n",
       "      <th>To Bank</th>\n",
       "      <td>62.476325</td>\n",
       "      <td>-0.007379</td>\n",
       "      <td>0.007379</td>\n",
       "      <td>3.777908e-02</td>\n",
       "    </tr>\n",
       "    <tr>\n",
       "      <th>To_Acc</th>\n",
       "      <td>0.767309</td>\n",
       "      <td>-0.000818</td>\n",
       "      <td>0.000818</td>\n",
       "      <td>8.266384e-02</td>\n",
       "    </tr>\n",
       "    <tr>\n",
       "      <th>Amount Received</th>\n",
       "      <td>0.009377</td>\n",
       "      <td>-0.000090</td>\n",
       "      <td>0.000090</td>\n",
       "      <td>9.496826e-07</td>\n",
       "    </tr>\n",
       "    <tr>\n",
       "      <th>R_CCY</th>\n",
       "      <td>0.047023</td>\n",
       "      <td>0.000202</td>\n",
       "      <td>0.000202</td>\n",
       "      <td>4.687755e-02</td>\n",
       "    </tr>\n",
       "    <tr>\n",
       "      <th>Amount Paid</th>\n",
       "      <td>0.007126</td>\n",
       "      <td>-0.000079</td>\n",
       "      <td>0.000079</td>\n",
       "      <td>9.469894e-07</td>\n",
       "    </tr>\n",
       "    <tr>\n",
       "      <th>P_CCY</th>\n",
       "      <td>0.049051</td>\n",
       "      <td>0.000207</td>\n",
       "      <td>0.000207</td>\n",
       "      <td>4.665855e-02</td>\n",
       "    </tr>\n",
       "    <tr>\n",
       "      <th>Payment_Format</th>\n",
       "      <td>4301.897007</td>\n",
       "      <td>-0.061115</td>\n",
       "      <td>0.061115</td>\n",
       "      <td>5.904994e-02</td>\n",
       "    </tr>\n",
       "    <tr>\n",
       "      <th>Monto_USD</th>\n",
       "      <td>5.394441</td>\n",
       "      <td>0.002168</td>\n",
       "      <td>0.002168</td>\n",
       "      <td>1.410344e-06</td>\n",
       "    </tr>\n",
       "  </tbody>\n",
       "</table>\n",
       "</div>"
      ],
      "text/plain": [
       "                     f_value   r_value  r_value_abs      variance\n",
       "Timestamp         463.130757  0.020086     0.020086  3.459400e-02\n",
       "From Bank           7.612647  0.002576     0.002576  2.283661e-02\n",
       "From_Acc            0.281708  0.000495     0.000495  8.014676e-02\n",
       "To Bank            62.476325 -0.007379     0.007379  3.777908e-02\n",
       "To_Acc              0.767309 -0.000818     0.000818  8.266384e-02\n",
       "Amount Received     0.009377 -0.000090     0.000090  9.496826e-07\n",
       "R_CCY               0.047023  0.000202     0.000202  4.687755e-02\n",
       "Amount Paid         0.007126 -0.000079     0.000079  9.469894e-07\n",
       "P_CCY               0.049051  0.000207     0.000207  4.665855e-02\n",
       "Payment_Format   4301.897007 -0.061115     0.061115  5.904994e-02\n",
       "Monto_USD           5.394441  0.002168     0.002168  1.410344e-06"
      ]
     },
     "execution_count": 122,
     "metadata": {},
     "output_type": "execute_result"
    }
   ],
   "source": [
    "selector = VarianceThreshold()\n",
    "selector.fit_transform(x_scaled)\n",
    "\n",
    "# Se agregan las varianzas a los resultados\n",
    "results['variance'] = selector.variances_\n",
    "\n",
    "results\n"
   ]
  },
  {
   "cell_type": "code",
   "execution_count": 123,
   "metadata": {},
   "outputs": [
    {
     "data": {
      "image/png": "[encoded data removed]",
      "text/plain": [
       "<Figure size 640x480 with 1 Axes>"
      ]
     },
     "metadata": {},
     "output_type": "display_data"
    }
   ],
   "source": [
    "plt.figure()\n",
    "plt.bar(results.index, results.variance)\n",
    "plt.xticks(rotation = 90, ha = 'right')\n",
    "plt.tight_layout()\n",
    "plt.show()"
   ]
  },
  {
   "cell_type": "markdown",
   "metadata": {},
   "source": [
    "Bajo este modelo, ninguna variable sería considerada ya que tienen varianza menor a 0.2."
   ]
  },
  {
   "cell_type": "markdown",
   "metadata": {},
   "source": [
    "#### Información mutua."
   ]
  },
  {
   "cell_type": "markdown",
   "metadata": {},
   "source": [
    "Se utilizará la información mutua de clasificación. Ésta ayuda a identificar las características más informativas para predecir el objetivo. A mayor valor de información mutua, mayor información brinda la característica."
   ]
  },
  {
   "cell_type": "code",
   "execution_count": 124,
   "metadata": {},
   "outputs": [],
   "source": [
    "from sklearn.feature_selection import mutual_info_classif\n"
   ]
  },
  {
   "cell_type": "code",
   "execution_count": 125,
   "metadata": {},
   "outputs": [
    {
     "data": {
      "text/html": [
       "<div>\n",
       "<style scoped>\n",
       "    .dataframe tbody tr th:only-of-type {\n",
       "        vertical-align: middle;\n",
       "    }\n",
       "\n",
       "    .dataframe tbody tr th {\n",
       "        vertical-align: top;\n",
       "    }\n",
       "\n",
       "    .dataframe thead th {\n",
       "        text-align: right;\n",
       "    }\n",
       "</style>\n",
       "<table border=\"1\" class=\"dataframe\">\n",
       "  <thead>\n",
       "    <tr style=\"text-align: right;\">\n",
       "      <th></th>\n",
       "      <th>f_value</th>\n",
       "      <th>r_value</th>\n",
       "      <th>r_value_abs</th>\n",
       "      <th>variance</th>\n",
       "      <th>mi</th>\n",
       "    </tr>\n",
       "  </thead>\n",
       "  <tbody>\n",
       "    <tr>\n",
       "      <th>Timestamp</th>\n",
       "      <td>463.130757</td>\n",
       "      <td>0.020086</td>\n",
       "      <td>0.020086</td>\n",
       "      <td>3.459400e-02</td>\n",
       "      <td>0.001110</td>\n",
       "    </tr>\n",
       "    <tr>\n",
       "      <th>From Bank</th>\n",
       "      <td>7.612647</td>\n",
       "      <td>0.002576</td>\n",
       "      <td>0.002576</td>\n",
       "      <td>2.283661e-02</td>\n",
       "      <td>0.000412</td>\n",
       "    </tr>\n",
       "    <tr>\n",
       "      <th>From_Acc</th>\n",
       "      <td>0.281708</td>\n",
       "      <td>0.000495</td>\n",
       "      <td>0.000495</td>\n",
       "      <td>8.014676e-02</td>\n",
       "      <td>0.001230</td>\n",
       "    </tr>\n",
       "    <tr>\n",
       "      <th>To Bank</th>\n",
       "      <td>62.476325</td>\n",
       "      <td>-0.007379</td>\n",
       "      <td>0.007379</td>\n",
       "      <td>3.777908e-02</td>\n",
       "      <td>0.000519</td>\n",
       "    </tr>\n",
       "    <tr>\n",
       "      <th>To_Acc</th>\n",
       "      <td>0.767309</td>\n",
       "      <td>-0.000818</td>\n",
       "      <td>0.000818</td>\n",
       "      <td>8.266384e-02</td>\n",
       "      <td>0.001371</td>\n",
       "    </tr>\n",
       "    <tr>\n",
       "      <th>Amount Received</th>\n",
       "      <td>0.009377</td>\n",
       "      <td>-0.000090</td>\n",
       "      <td>0.000090</td>\n",
       "      <td>9.496826e-07</td>\n",
       "      <td>0.000736</td>\n",
       "    </tr>\n",
       "    <tr>\n",
       "      <th>R_CCY</th>\n",
       "      <td>0.047023</td>\n",
       "      <td>0.000202</td>\n",
       "      <td>0.000202</td>\n",
       "      <td>4.687755e-02</td>\n",
       "      <td>0.046370</td>\n",
       "    </tr>\n",
       "    <tr>\n",
       "      <th>Amount Paid</th>\n",
       "      <td>0.007126</td>\n",
       "      <td>-0.000079</td>\n",
       "      <td>0.000079</td>\n",
       "      <td>9.469894e-07</td>\n",
       "      <td>0.000755</td>\n",
       "    </tr>\n",
       "    <tr>\n",
       "      <th>P_CCY</th>\n",
       "      <td>0.049051</td>\n",
       "      <td>0.000207</td>\n",
       "      <td>0.000207</td>\n",
       "      <td>4.665855e-02</td>\n",
       "      <td>0.046777</td>\n",
       "    </tr>\n",
       "    <tr>\n",
       "      <th>Payment_Format</th>\n",
       "      <td>4301.897007</td>\n",
       "      <td>-0.061115</td>\n",
       "      <td>0.061115</td>\n",
       "      <td>5.904994e-02</td>\n",
       "      <td>0.088948</td>\n",
       "    </tr>\n",
       "    <tr>\n",
       "      <th>Monto_USD</th>\n",
       "      <td>5.394441</td>\n",
       "      <td>0.002168</td>\n",
       "      <td>0.002168</td>\n",
       "      <td>1.410344e-06</td>\n",
       "      <td>0.001301</td>\n",
       "    </tr>\n",
       "  </tbody>\n",
       "</table>\n",
       "</div>"
      ],
      "text/plain": [
       "                     f_value   r_value  r_value_abs      variance        mi\n",
       "Timestamp         463.130757  0.020086     0.020086  3.459400e-02  0.001110\n",
       "From Bank           7.612647  0.002576     0.002576  2.283661e-02  0.000412\n",
       "From_Acc            0.281708  0.000495     0.000495  8.014676e-02  0.001230\n",
       "To Bank            62.476325 -0.007379     0.007379  3.777908e-02  0.000519\n",
       "To_Acc              0.767309 -0.000818     0.000818  8.266384e-02  0.001371\n",
       "Amount Received     0.009377 -0.000090     0.000090  9.496826e-07  0.000736\n",
       "R_CCY               0.047023  0.000202     0.000202  4.687755e-02  0.046370\n",
       "Amount Paid         0.007126 -0.000079     0.000079  9.469894e-07  0.000755\n",
       "P_CCY               0.049051  0.000207     0.000207  4.665855e-02  0.046777\n",
       "Payment_Format   4301.897007 -0.061115     0.061115  5.904994e-02  0.088948\n",
       "Monto_USD           5.394441  0.002168     0.002168  1.410344e-06  0.001301"
      ]
     },
     "execution_count": 125,
     "metadata": {},
     "output_type": "execute_result"
    }
   ],
   "source": [
    "mi = mutual_info_classif(x, y, random_state=0)\n",
    "\n",
    "#se agrega al dataframe de resultados\n",
    "results['mi'] = mi\n",
    "\n",
    "results"
   ]
  },
  {
   "cell_type": "code",
   "execution_count": 126,
   "metadata": {},
   "outputs": [
    {
     "data": {
      "image/png": "[encoded data removed]",
      "text/plain": [
       "<Figure size 640x480 with 1 Axes>"
      ]
     },
     "metadata": {},
     "output_type": "display_data"
    }
   ],
   "source": [
    "plt.figure()\n",
    "plt.bar(results.index, results.mi)\n",
    "plt.xticks(rotation = 90, ha = 'right')\n",
    "plt.tight_layout()\n",
    "plt.show()"
   ]
  },
  {
   "cell_type": "markdown",
   "metadata": {},
   "source": [
    "La dependencia entre las variables es débil."
   ]
  },
  {
   "cell_type": "markdown",
   "metadata": {},
   "source": [
    "### Wrapper Methods"
   ]
  },
  {
   "cell_type": "code",
   "execution_count": 137,
   "metadata": {},
   "outputs": [],
   "source": [
    "from sklearn.decomposition import PCA\n",
    "import numpy as np"
   ]
  },
  {
   "cell_type": "code",
   "execution_count": 141,
   "metadata": {},
   "outputs": [],
   "source": [
    "pca = PCA(n_components = 4)\n",
    "pca_model = pca.fit(x_scaled)"
   ]
  },
  {
   "cell_type": "code",
   "execution_count": 143,
   "metadata": {},
   "outputs": [
    {
     "data": {
      "image/png": "[encoded data removed]",
      "text/plain": [
       "<Figure size 640x480 with 1 Axes>"
      ]
     },
     "metadata": {},
     "output_type": "display_data"
    }
   ],
   "source": [
    "plt.figure()\n",
    "plt.bar(np.arange(pca_model.n_components_) + 1, pca_model.explained_variance_ratio_)\n",
    "prop_varianza_acum = pca_model.explained_variance_ratio_.cumsum()\n",
    "plt.plot(range(1, 5),prop_varianza_acum, marker = 'o', c='orange', label='Var. acumulada')\n",
    "plt.xticks(np.arange(pca_model.n_components_) + 1)\n",
    "plt.ylim(0, 1.1)\n",
    "plt.xlabel('Componente principal', fontsize=12)\n",
    "plt.ylabel('Varianza explicada', fontsize=16)\n",
    "plt.legend()\n",
    "plt.show()"
   ]
  },
  {
   "cell_type": "code",
   "execution_count": 144,
   "metadata": {},
   "outputs": [
    {
     "data": {
      "text/html": [
       "<div>\n",
       "<style scoped>\n",
       "    .dataframe tbody tr th:only-of-type {\n",
       "        vertical-align: middle;\n",
       "    }\n",
       "\n",
       "    .dataframe tbody tr th {\n",
       "        vertical-align: top;\n",
       "    }\n",
       "\n",
       "    .dataframe thead th {\n",
       "        text-align: right;\n",
       "    }\n",
       "</style>\n",
       "<table border=\"1\" class=\"dataframe\">\n",
       "  <thead>\n",
       "    <tr style=\"text-align: right;\">\n",
       "      <th></th>\n",
       "      <th>pca1</th>\n",
       "      <th>pca2</th>\n",
       "      <th>pca3</th>\n",
       "      <th>pca4</th>\n",
       "    </tr>\n",
       "  </thead>\n",
       "  <tbody>\n",
       "    <tr>\n",
       "      <th>Payment_Format</th>\n",
       "      <td>0.048895</td>\n",
       "      <td>0.005114</td>\n",
       "      <td>0.004411</td>\n",
       "      <td>-0.985226</td>\n",
       "    </tr>\n",
       "    <tr>\n",
       "      <th>To Bank</th>\n",
       "      <td>0.035717</td>\n",
       "      <td>0.000338</td>\n",
       "      <td>-0.002626</td>\n",
       "      <td>0.068658</td>\n",
       "    </tr>\n",
       "    <tr>\n",
       "      <th>From Bank</th>\n",
       "      <td>0.033551</td>\n",
       "      <td>0.005148</td>\n",
       "      <td>-0.002793</td>\n",
       "      <td>0.033218</td>\n",
       "    </tr>\n",
       "    <tr>\n",
       "      <th>Amount Paid</th>\n",
       "      <td>-0.000004</td>\n",
       "      <td>-0.000004</td>\n",
       "      <td>0.000003</td>\n",
       "      <td>0.000013</td>\n",
       "    </tr>\n",
       "    <tr>\n",
       "      <th>Amount Received</th>\n",
       "      <td>-0.000004</td>\n",
       "      <td>-0.000003</td>\n",
       "      <td>0.000004</td>\n",
       "      <td>0.000015</td>\n",
       "    </tr>\n",
       "    <tr>\n",
       "      <th>Monto_USD</th>\n",
       "      <td>-0.000008</td>\n",
       "      <td>-0.000003</td>\n",
       "      <td>0.000007</td>\n",
       "      <td>0.000047</td>\n",
       "    </tr>\n",
       "    <tr>\n",
       "      <th>Timestamp</th>\n",
       "      <td>-0.004859</td>\n",
       "      <td>0.001492</td>\n",
       "      <td>-0.001412</td>\n",
       "      <td>0.146303</td>\n",
       "    </tr>\n",
       "    <tr>\n",
       "      <th>To_Acc</th>\n",
       "      <td>-0.022461</td>\n",
       "      <td>0.781446</td>\n",
       "      <td>-0.623544</td>\n",
       "      <td>-0.000402</td>\n",
       "    </tr>\n",
       "    <tr>\n",
       "      <th>From_Acc</th>\n",
       "      <td>-0.086765</td>\n",
       "      <td>0.619834</td>\n",
       "      <td>0.779900</td>\n",
       "      <td>0.002693</td>\n",
       "    </tr>\n",
       "    <tr>\n",
       "      <th>P_CCY</th>\n",
       "      <td>-0.701729</td>\n",
       "      <td>-0.050289</td>\n",
       "      <td>-0.038124</td>\n",
       "      <td>-0.032437</td>\n",
       "    </tr>\n",
       "    <tr>\n",
       "      <th>R_CCY</th>\n",
       "      <td>-0.703369</td>\n",
       "      <td>-0.050635</td>\n",
       "      <td>-0.038209</td>\n",
       "      <td>-0.032387</td>\n",
       "    </tr>\n",
       "  </tbody>\n",
       "</table>\n",
       "</div>"
      ],
      "text/plain": [
       "                     pca1      pca2      pca3      pca4\n",
       "Payment_Format   0.048895  0.005114  0.004411 -0.985226\n",
       "To Bank          0.035717  0.000338 -0.002626  0.068658\n",
       "From Bank        0.033551  0.005148 -0.002793  0.033218\n",
       "Amount Paid     -0.000004 -0.000004  0.000003  0.000013\n",
       "Amount Received -0.000004 -0.000003  0.000004  0.000015\n",
       "Monto_USD       -0.000008 -0.000003  0.000007  0.000047\n",
       "Timestamp       -0.004859  0.001492 -0.001412  0.146303\n",
       "To_Acc          -0.022461  0.781446 -0.623544 -0.000402\n",
       "From_Acc        -0.086765  0.619834  0.779900  0.002693\n",
       "P_CCY           -0.701729 -0.050289 -0.038124 -0.032437\n",
       "R_CCY           -0.703369 -0.050635 -0.038209 -0.032387"
      ]
     },
     "execution_count": 144,
     "metadata": {},
     "output_type": "execute_result"
    }
   ],
   "source": [
    "# Coeficientes del PCA\n",
    "pca_coef = pd.DataFrame(\n",
    "  data    = pca_model.components_,\n",
    "  columns = x_scaled.columns,\n",
    "  index = ['pca1', 'pca2', 'pca3', 'pca4']\n",
    ").T.sort_values('pca1', ascending=False)\n",
    "pca_coef"
   ]
  },
  {
   "cell_type": "markdown",
   "metadata": {},
   "source": [
    "Se requieren más de cuatro componentes principales para explicar cerca del 80% de la varianza de los datos."
   ]
  },
  {
   "cell_type": "markdown",
   "metadata": {},
   "source": [
    "#### Tree-Based Feature Importance"
   ]
  },
  {
   "cell_type": "markdown",
   "metadata": {},
   "source": [
    "##### XGBoost"
   ]
  },
  {
   "cell_type": "markdown",
   "metadata": {},
   "source": [
    "Es un algoritmo de árbol de decisión, los cuales pueden proporcionar una medida de importancia de las características a evaluar. Mientras que los algoritmos de Bagging entrenan árboles de decisión en paralelo, los algoritmos de Boosting lo hacen en serie, tal que cada modelo se basa en los errores de su predecesor, intentando corregirlos. El modelo final es una colección de aprendizajes débiles entrenados con los residuos de aprendizajes fuertes para formar la predicción final.[1](https://www.qwak.com/post/xgboost-versus-random-forest#:~:text=Random%20Forest%20is%20a%20bagging,and%20determine%20the%20final%20output.)"
   ]
  },
  {
   "cell_type": "code",
   "execution_count": 127,
   "metadata": {},
   "outputs": [
    {
     "name": "stdout",
     "output_type": "stream",
     "text": [
      "Característica 0: 0.04134417697787285\n",
      "Característica 1: 0.03714882582426071\n",
      "Característica 2: 0.023427071049809456\n",
      "Característica 3: 0.02846631594002247\n",
      "Característica 4: 0.022630181163549423\n",
      "Característica 5: 0.02648339793086052\n",
      "Característica 6: 0.031184600666165352\n",
      "Característica 7: 0.023923013359308243\n",
      "Característica 8: 0.051798492670059204\n",
      "Característica 9: 0.6505789160728455\n",
      "Característica 10: 0.06301513314247131\n"
     ]
    }
   ],
   "source": [
    "import xgboost as xgb\n",
    "\n",
    "# se crea un clasificador de XGBoost\n",
    "clf = xgb.XGBClassifier()\n",
    "\n",
    "# ajuste (fit) del modelo al conjunto de datos\n",
    "clf.fit(x, y)\n",
    "\n",
    "# importancia de las características\n",
    "importances = clf.feature_importances_\n",
    "\n",
    "for feature, importance in enumerate(importances):\n",
    "    print(f'Característica {feature}: {importance}')"
   ]
  },
  {
   "cell_type": "code",
   "execution_count": 128,
   "metadata": {},
   "outputs": [
    {
     "data": {
      "text/html": [
       "<div>\n",
       "<style scoped>\n",
       "    .dataframe tbody tr th:only-of-type {\n",
       "        vertical-align: middle;\n",
       "    }\n",
       "\n",
       "    .dataframe tbody tr th {\n",
       "        vertical-align: top;\n",
       "    }\n",
       "\n",
       "    .dataframe thead th {\n",
       "        text-align: right;\n",
       "    }\n",
       "</style>\n",
       "<table border=\"1\" class=\"dataframe\">\n",
       "  <thead>\n",
       "    <tr style=\"text-align: right;\">\n",
       "      <th></th>\n",
       "      <th>f_value</th>\n",
       "      <th>r_value</th>\n",
       "      <th>r_value_abs</th>\n",
       "      <th>variance</th>\n",
       "      <th>mi</th>\n",
       "      <th>rgboost</th>\n",
       "    </tr>\n",
       "  </thead>\n",
       "  <tbody>\n",
       "    <tr>\n",
       "      <th>Timestamp</th>\n",
       "      <td>463.130757</td>\n",
       "      <td>0.020086</td>\n",
       "      <td>0.020086</td>\n",
       "      <td>3.459400e-02</td>\n",
       "      <td>0.001110</td>\n",
       "      <td>0.041344</td>\n",
       "    </tr>\n",
       "    <tr>\n",
       "      <th>From Bank</th>\n",
       "      <td>7.612647</td>\n",
       "      <td>0.002576</td>\n",
       "      <td>0.002576</td>\n",
       "      <td>2.283661e-02</td>\n",
       "      <td>0.000412</td>\n",
       "      <td>0.037149</td>\n",
       "    </tr>\n",
       "    <tr>\n",
       "      <th>From_Acc</th>\n",
       "      <td>0.281708</td>\n",
       "      <td>0.000495</td>\n",
       "      <td>0.000495</td>\n",
       "      <td>8.014676e-02</td>\n",
       "      <td>0.001230</td>\n",
       "      <td>0.023427</td>\n",
       "    </tr>\n",
       "    <tr>\n",
       "      <th>To Bank</th>\n",
       "      <td>62.476325</td>\n",
       "      <td>-0.007379</td>\n",
       "      <td>0.007379</td>\n",
       "      <td>3.777908e-02</td>\n",
       "      <td>0.000519</td>\n",
       "      <td>0.028466</td>\n",
       "    </tr>\n",
       "    <tr>\n",
       "      <th>To_Acc</th>\n",
       "      <td>0.767309</td>\n",
       "      <td>-0.000818</td>\n",
       "      <td>0.000818</td>\n",
       "      <td>8.266384e-02</td>\n",
       "      <td>0.001371</td>\n",
       "      <td>0.022630</td>\n",
       "    </tr>\n",
       "    <tr>\n",
       "      <th>Amount Received</th>\n",
       "      <td>0.009377</td>\n",
       "      <td>-0.000090</td>\n",
       "      <td>0.000090</td>\n",
       "      <td>9.496826e-07</td>\n",
       "      <td>0.000736</td>\n",
       "      <td>0.026483</td>\n",
       "    </tr>\n",
       "    <tr>\n",
       "      <th>R_CCY</th>\n",
       "      <td>0.047023</td>\n",
       "      <td>0.000202</td>\n",
       "      <td>0.000202</td>\n",
       "      <td>4.687755e-02</td>\n",
       "      <td>0.046370</td>\n",
       "      <td>0.031185</td>\n",
       "    </tr>\n",
       "    <tr>\n",
       "      <th>Amount Paid</th>\n",
       "      <td>0.007126</td>\n",
       "      <td>-0.000079</td>\n",
       "      <td>0.000079</td>\n",
       "      <td>9.469894e-07</td>\n",
       "      <td>0.000755</td>\n",
       "      <td>0.023923</td>\n",
       "    </tr>\n",
       "    <tr>\n",
       "      <th>P_CCY</th>\n",
       "      <td>0.049051</td>\n",
       "      <td>0.000207</td>\n",
       "      <td>0.000207</td>\n",
       "      <td>4.665855e-02</td>\n",
       "      <td>0.046777</td>\n",
       "      <td>0.051798</td>\n",
       "    </tr>\n",
       "    <tr>\n",
       "      <th>Payment_Format</th>\n",
       "      <td>4301.897007</td>\n",
       "      <td>-0.061115</td>\n",
       "      <td>0.061115</td>\n",
       "      <td>5.904994e-02</td>\n",
       "      <td>0.088948</td>\n",
       "      <td>0.650579</td>\n",
       "    </tr>\n",
       "    <tr>\n",
       "      <th>Monto_USD</th>\n",
       "      <td>5.394441</td>\n",
       "      <td>0.002168</td>\n",
       "      <td>0.002168</td>\n",
       "      <td>1.410344e-06</td>\n",
       "      <td>0.001301</td>\n",
       "      <td>0.063015</td>\n",
       "    </tr>\n",
       "  </tbody>\n",
       "</table>\n",
       "</div>"
      ],
      "text/plain": [
       "                     f_value   r_value  r_value_abs      variance        mi  \\\n",
       "Timestamp         463.130757  0.020086     0.020086  3.459400e-02  0.001110   \n",
       "From Bank           7.612647  0.002576     0.002576  2.283661e-02  0.000412   \n",
       "From_Acc            0.281708  0.000495     0.000495  8.014676e-02  0.001230   \n",
       "To Bank            62.476325 -0.007379     0.007379  3.777908e-02  0.000519   \n",
       "To_Acc              0.767309 -0.000818     0.000818  8.266384e-02  0.001371   \n",
       "Amount Received     0.009377 -0.000090     0.000090  9.496826e-07  0.000736   \n",
       "R_CCY               0.047023  0.000202     0.000202  4.687755e-02  0.046370   \n",
       "Amount Paid         0.007126 -0.000079     0.000079  9.469894e-07  0.000755   \n",
       "P_CCY               0.049051  0.000207     0.000207  4.665855e-02  0.046777   \n",
       "Payment_Format   4301.897007 -0.061115     0.061115  5.904994e-02  0.088948   \n",
       "Monto_USD           5.394441  0.002168     0.002168  1.410344e-06  0.001301   \n",
       "\n",
       "                  rgboost  \n",
       "Timestamp        0.041344  \n",
       "From Bank        0.037149  \n",
       "From_Acc         0.023427  \n",
       "To Bank          0.028466  \n",
       "To_Acc           0.022630  \n",
       "Amount Received  0.026483  \n",
       "R_CCY            0.031185  \n",
       "Amount Paid      0.023923  \n",
       "P_CCY            0.051798  \n",
       "Payment_Format   0.650579  \n",
       "Monto_USD        0.063015  "
      ]
     },
     "execution_count": 128,
     "metadata": {},
     "output_type": "execute_result"
    }
   ],
   "source": [
    "# Se agregan las varianzas a los resultados\n",
    "results['rgboost'] = importances\n",
    "results"
   ]
  },
  {
   "cell_type": "code",
   "execution_count": 129,
   "metadata": {},
   "outputs": [
    {
     "data": {
      "image/png": "[encoded data removed]",
      "text/plain": [
       "<Figure size 640x480 with 1 Axes>"
      ]
     },
     "metadata": {},
     "output_type": "display_data"
    }
   ],
   "source": [
    "plt.figure()\n",
    "plt.bar(results.index, results.rgboost)\n",
    "plt.xticks(rotation = 90, ha = 'right')\n",
    "plt.tight_layout()\n",
    "plt.show()"
   ]
  },
  {
   "cell_type": "markdown",
   "metadata": {},
   "source": [
    "##### Conclusiones.\n",
    "\n",
    "De los análisis realizados y de acuerdo con el último modelo utilizado, la variable 'Payment_Format' es aquella que brinda más información que el resto de las variables para determinar la clasificación de la transacción. Asimismo, y aunque en menor medida, las variables 'Monto_USD' , 'P_CCY', 'From Bank' y 'Timestamp' también aportan un poco más que el resto de las variables.\n",
    "\n",
    "Del análisis de correlación, la moneda y montos de recepción y de pago aportan información similar, por lo que los montos y la moneda de recepción serán excluidas de las primeras pruebas del modelo, y en caso de que su desempeño sea muy malo se valorará su integración en búsqueda de mejorarlo."
   ]
  },
  {
   "cell_type": "markdown",
   "metadata": {},
   "source": [
    "#### Referencias\n",
    "\n",
    "https://www.qwak.com/post/xgboost-versus-random-forest#:~:text=Random%20Forest%20is%20a%20bagging,and%20determine%20the%20final%20output.\n",
    "https://xgboost.readthedocs.io/en/stable/python/python_intro.html\n",
    "https://scikit-learn.org/stable/modules/generated/sklearn.feature_selection.SelectKBest.html#sklearn.feature_selection.SelectKBest\n",
    "\n"
   ]
  }
 ],
 "metadata": {
  "kernelspec": {
   "display_name": "Python 3",
   "language": "python",
   "name": "python3"
  },
  "language_info": {
   "codemirror_mode": {
    "name": "ipython",
    "version": 3
   },
   "file_extension": ".py",
   "mimetype": "text/x-python",
   "name": "python",
   "nbconvert_exporter": "python",
   "pygments_lexer": "ipython3",
   "version": "3.11.6"
  }
 },
 "nbformat": 4,
 "nbformat_minor": 2
}
