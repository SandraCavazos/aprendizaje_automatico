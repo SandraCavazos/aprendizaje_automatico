{
 "cells": [
  {
   "cell_type": "markdown",
   "metadata": {},
   "source": [
    "# **Tarea 1**\n",
    "\n",
    "## **Parte 1: Selección de Conjunto de datos**\n",
    "\n",
    "### Definir el conjunto de datos.\n",
    "Tras la valoración de diversos conjuntos de datos, se elige el dataset HI-Small_Trans ([db](https://www.kaggle.com/datasets/ealtman2019/ibm-transactions-for-anti-money-laundering-aml?resource=download&select=HI-Small_Trans.csv)), de Kaggle. Este conjunto de datos contiene transacciones sintéticas etiquetadas como lavado de dinero (LD) o legítimas. Estos datos fueron generados por IBM, ya que el acceso a datos transaccionales reales es limitado por razones de propiedad y privacidad, además que su correcta clasificación en temas de LD es complicada.\n",
    "\n",
    "El generador de IBM modela las tres etapas de LD: \n",
    "1. Colocación: introducir los recursos ilícitos en el sistema financiero.\n",
    "2. Estratificación: mezclar los recursos en el sistema mediante varias transacciones que dificulten el rastreo del origen.\n",
    "3. Integración: reintroducir los recursos en la economía para su uso.\n",
    "\n",
    "Las variables del conjunto de datos son las siguientes:\n",
    "\n",
    "1. Timestamp            Fecha y hora de la transacción\n",
    "2. From Bank            Código numérico del banco originador\n",
    "3. Account              Código hexadecimal de la cuenta originadora\n",
    "4. To Bank              Código numérico del banco beneficiario\n",
    "5. Account              Código hexadecimal de la cuenta beneficiaria\n",
    "6. Amount Received      Monto recibido (en la moneda de la siguiente columna)\n",
    "7. Receiving Currency   Moneda de recepción (dólares, euros, etc) \n",
    "8. Amount Paid          Monto pagado (en la moneda de la siguiente columna)\n",
    "9. Payment Currency     Moneda de pago (dólares, euros, etc)\n",
    "10. Payment Format      Forma de pago: cheque, tarjeta de crédito, etc.\n",
    "11. Is Laundering       Etiqueta de la transacción 0 si es legítima, 1 si es de LD.\n",
    "\n",
    "### Justificación de la elección.\n",
    "Se seleccionó este conjunto de datos ya que el LD es un problema relevante que enfrenta el sistema financiero, y es importante tener la forma de mitigarlo o prevenirlo para cumplir con la regulación y evitar daños reputacionales para las instituciones involucradas. \n",
    "\n",
    "### Objetivos a lograr.\n",
    "\n",
    "Durante el curso, además de aprender, se pretende lograr lo siguiente:\n",
    "\n",
    "- Identificar las variables que más aportan para la detección de LD.\n",
    "- Encontrar patrones de inusualidad y comportamientos sospechosos en las transacciones.\n",
    "- Diseñar un modelo que determine la probabilidad de que una transacción o conjunto de transacciones sea legítima o no.\n",
    "- Valorar el desempeño del modelo."
   ]
  },
  {
   "cell_type": "markdown",
   "metadata": {},
   "source": [
    "## **Parte 2: Ejemplo análisis de correlación**"
   ]
  },
  {
   "cell_type": "code",
   "execution_count": 4,
   "metadata": {},
   "outputs": [],
   "source": [
    "#Se importan las librerías a utilizar\n",
    "import pandas as pd\n",
    "from sklearn.preprocessing import LabelEncoder"
   ]
  },
  {
   "cell_type": "code",
   "execution_count": 11,
   "metadata": {},
   "outputs": [],
   "source": [
    "#Se lee el conjunto de datos\n",
    "trans=pd.read_csv('C:/Users/sandy/Downloads/HI-Small_Trans.csv')"
   ]
  },
  {
   "cell_type": "code",
   "execution_count": 12,
   "metadata": {},
   "outputs": [
    {
     "data": {
      "text/plain": [
       "Timestamp              object\n",
       "From Bank               int64\n",
       "Account                object\n",
       "To Bank                 int64\n",
       "Account.1              object\n",
       "Amount Received       float64\n",
       "Receiving Currency     object\n",
       "Amount Paid           float64\n",
       "Payment Currency       object\n",
       "Payment Format         object\n",
       "Is Laundering           int64\n",
       "dtype: object"
      ]
     },
     "execution_count": 12,
     "metadata": {},
     "output_type": "execute_result"
    }
   ],
   "source": [
    "#Tipos de datos en el conjunto\n",
    "trans.dtypes"
   ]
  },
  {
   "cell_type": "code",
   "execution_count": 15,
   "metadata": {},
   "outputs": [
    {
     "data": {
      "text/plain": [
       "Timestamp             datetime64[ns]\n",
       "From Bank                      int64\n",
       "Account                       object\n",
       "To Bank                        int64\n",
       "Account.1                     object\n",
       "Amount Received              float64\n",
       "Receiving Currency            object\n",
       "Amount Paid                  float64\n",
       "Payment Currency              object\n",
       "Payment Format                object\n",
       "Is Laundering                  int64\n",
       "Payment_CCY                    int32\n",
       "Payment_Format                 int32\n",
       "dtype: object"
      ]
     },
     "execution_count": 15,
     "metadata": {},
     "output_type": "execute_result"
    }
   ],
   "source": [
    "# Ajuste de tipo de datos para utilizar función corr\n",
    "# Se ajusta el tipo de dato de fecha y hora\n",
    "trans['Timestamp'] = pd.to_datetime(trans['Timestamp'])\n",
    "\n",
    "# Se codifican las etiquetas de la moneda y forma de pago\n",
    "le = LabelEncoder()\n",
    "trans['Payment_CCY'] = le.fit_transform(trans['Payment Currency'])\n",
    "trans['Payment_Format'] = le.fit_transform(trans['Payment Format'])\n",
    "\n",
    "#Tipos de datos en el conjunto\n",
    "trans.dtypes"
   ]
  },
  {
   "cell_type": "code",
   "execution_count": 16,
   "metadata": {},
   "outputs": [],
   "source": [
    "# Seleccióm de variables para el análisis de correlación\n",
    "trans_var = trans[['Timestamp', 'From Bank',  'To Bank',  'Amount Paid',   'Payment_CCY',  'Payment_Format',  'Is Laundering']]"
   ]
  },
  {
   "cell_type": "code",
   "execution_count": 17,
   "metadata": {},
   "outputs": [
    {
     "data": {
      "text/html": [
       "<div>\n",
       "<style scoped>\n",
       "    .dataframe tbody tr th:only-of-type {\n",
       "        vertical-align: middle;\n",
       "    }\n",
       "\n",
       "    .dataframe tbody tr th {\n",
       "        vertical-align: top;\n",
       "    }\n",
       "\n",
       "    .dataframe thead th {\n",
       "        text-align: right;\n",
       "    }\n",
       "</style>\n",
       "<table border=\"1\" class=\"dataframe\">\n",
       "  <thead>\n",
       "    <tr style=\"text-align: right;\">\n",
       "      <th></th>\n",
       "      <th>Timestamp</th>\n",
       "      <th>From Bank</th>\n",
       "      <th>To Bank</th>\n",
       "      <th>Amount Paid</th>\n",
       "      <th>Payment_CCY</th>\n",
       "      <th>Payment_Format</th>\n",
       "      <th>Is Laundering</th>\n",
       "    </tr>\n",
       "  </thead>\n",
       "  <tbody>\n",
       "    <tr>\n",
       "      <th>Timestamp</th>\n",
       "      <td>1.000000</td>\n",
       "      <td>0.067191</td>\n",
       "      <td>0.021453</td>\n",
       "      <td>0.001082</td>\n",
       "      <td>0.000257</td>\n",
       "      <td>0.169846</td>\n",
       "      <td>0.019145</td>\n",
       "    </tr>\n",
       "    <tr>\n",
       "      <th>From Bank</th>\n",
       "      <td>0.067191</td>\n",
       "      <td>1.000000</td>\n",
       "      <td>0.289931</td>\n",
       "      <td>0.000442</td>\n",
       "      <td>0.041674</td>\n",
       "      <td>0.002292</td>\n",
       "      <td>0.000230</td>\n",
       "    </tr>\n",
       "    <tr>\n",
       "      <th>To Bank</th>\n",
       "      <td>0.021453</td>\n",
       "      <td>0.289931</td>\n",
       "      <td>1.000000</td>\n",
       "      <td>0.000406</td>\n",
       "      <td>0.036084</td>\n",
       "      <td>0.007283</td>\n",
       "      <td>0.005723</td>\n",
       "    </tr>\n",
       "    <tr>\n",
       "      <th>Amount Paid</th>\n",
       "      <td>0.001082</td>\n",
       "      <td>0.000442</td>\n",
       "      <td>0.000406</td>\n",
       "      <td>1.000000</td>\n",
       "      <td>0.000082</td>\n",
       "      <td>0.002520</td>\n",
       "      <td>0.001162</td>\n",
       "    </tr>\n",
       "    <tr>\n",
       "      <th>Payment_CCY</th>\n",
       "      <td>0.000257</td>\n",
       "      <td>0.041674</td>\n",
       "      <td>0.036084</td>\n",
       "      <td>0.000082</td>\n",
       "      <td>1.000000</td>\n",
       "      <td>0.062105</td>\n",
       "      <td>0.000482</td>\n",
       "    </tr>\n",
       "    <tr>\n",
       "      <th>Payment_Format</th>\n",
       "      <td>0.169846</td>\n",
       "      <td>0.002292</td>\n",
       "      <td>0.007283</td>\n",
       "      <td>0.002520</td>\n",
       "      <td>0.062105</td>\n",
       "      <td>1.000000</td>\n",
       "      <td>0.056681</td>\n",
       "    </tr>\n",
       "    <tr>\n",
       "      <th>Is Laundering</th>\n",
       "      <td>0.019145</td>\n",
       "      <td>0.000230</td>\n",
       "      <td>0.005723</td>\n",
       "      <td>0.001162</td>\n",
       "      <td>0.000482</td>\n",
       "      <td>0.056681</td>\n",
       "      <td>1.000000</td>\n",
       "    </tr>\n",
       "  </tbody>\n",
       "</table>\n",
       "</div>"
      ],
      "text/plain": [
       "                Timestamp  From Bank   To Bank  Amount Paid  Payment_CCY  \\\n",
       "Timestamp        1.000000   0.067191  0.021453     0.001082     0.000257   \n",
       "From Bank        0.067191   1.000000  0.289931     0.000442     0.041674   \n",
       "To Bank          0.021453   0.289931  1.000000     0.000406     0.036084   \n",
       "Amount Paid      0.001082   0.000442  0.000406     1.000000     0.000082   \n",
       "Payment_CCY      0.000257   0.041674  0.036084     0.000082     1.000000   \n",
       "Payment_Format   0.169846   0.002292  0.007283     0.002520     0.062105   \n",
       "Is Laundering    0.019145   0.000230  0.005723     0.001162     0.000482   \n",
       "\n",
       "                Payment_Format  Is Laundering  \n",
       "Timestamp             0.169846       0.019145  \n",
       "From Bank             0.002292       0.000230  \n",
       "To Bank               0.007283       0.005723  \n",
       "Amount Paid           0.002520       0.001162  \n",
       "Payment_CCY           0.062105       0.000482  \n",
       "Payment_Format        1.000000       0.056681  \n",
       "Is Laundering         0.056681       1.000000  "
      ]
     },
     "execution_count": 17,
     "metadata": {},
     "output_type": "execute_result"
    }
   ],
   "source": [
    "# Matriz de correlación\n",
    "trans_var.corr()\n",
    "trans_cor = abs(trans_var.corr())\n",
    "trans_cor"
   ]
  }
 ],
 "metadata": {
  "kernelspec": {
   "display_name": "Python 3",
   "language": "python",
   "name": "python3"
  },
  "language_info": {
   "codemirror_mode": {
    "name": "ipython",
    "version": 3
   },
   "file_extension": ".py",
   "mimetype": "text/x-python",
   "name": "python",
   "nbconvert_exporter": "python",
   "pygments_lexer": "ipython3",
   "version": "3.11.5"
  },
  "orig_nbformat": 4
 },
 "nbformat": 4,
 "nbformat_minor": 2
}
